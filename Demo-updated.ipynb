{
  "cells": [
    {
      "cell_type": "markdown",
      "metadata": {
        "application/vnd.databricks.v1+cell": {
          "cellMetadata": {},
          "inputWidgets": {},
          "nuid": "4e29f9be-227e-45bc-82cd-1d81d550c9ad",
          "showTitle": false,
          "tableResultSettingsMap": {},
          "title": ""
        }
      },
      "source": [
        "# Databricks Demo - Comprehensive Guide\n",
        "### SQL, PySpark, and Spark-Scala Examples for All Operations"
      ]
    },
    {
      "cell_type": "markdown",
      "metadata": {
        "application/vnd.databricks.v1+cell": {
          "cellMetadata": {},
          "inputWidgets": {},
          "nuid": "53b7cf98-3fbe-4f9b-ad2c-2b8e86a9d766",
          "showTitle": false,
          "tableResultSettingsMap": {},
          "title": ""
        }
      },
      "source": [
        "## 1. DBFS Operations"
      ]
    },
    {
      "cell_type": "markdown",
      "metadata": {
        "application/vnd.databricks.v1+cell": {
          "cellMetadata": {},
          "inputWidgets": {},
          "nuid": "c16ce146-c2b9-4592-8216-c0905290494b",
          "showTitle": false,
          "tableResultSettingsMap": {},
          "title": ""
        }
      },
      "source": [
        "#### SQL - Query Delta Table"
      ]
    },
    {
      "cell_type": "code",
      "execution_count": 0,
      "metadata": {
        "application/vnd.databricks.v1+cell": {
          "cellMetadata": {},
          "inputWidgets": {},
          "nuid": "ab294cf0-a9ed-41fd-9e45-0c10e29c498c",
          "showTitle": false,
          "tableResultSettingsMap": {},
          "title": ""
        }
      },
      "outputs": [],
      "source": [
        "%sql\nSELECT * FROM delta.`/databricks-datasets/nyctaxi-with-zipcodes/subsampled`"
      ]
    },
    {
      "cell_type": "markdown",
      "metadata": {
        "application/vnd.databricks.v1+cell": {
          "cellMetadata": {},
          "inputWidgets": {},
          "nuid": "029dec9c-d8a7-4426-85fc-2599fef7694c",
          "showTitle": false,
          "tableResultSettingsMap": {},
          "title": ""
        }
      },
      "source": [
        "#### PySpark - List Files"
      ]
    },
    {
      "cell_type": "code",
      "execution_count": 0,
      "metadata": {
        "application/vnd.databricks.v1+cell": {
          "cellMetadata": {},
          "inputWidgets": {},
          "nuid": "f7e3eb51-4f7d-477c-95f2-af6e9c9fd9fe",
          "showTitle": false,
          "tableResultSettingsMap": {},
          "title": ""
        }
      },
      "outputs": [],
      "source": [
        "files = dbutils.fs.ls(\"/databricks-datasets/nyctaxi-with-zipcodes/subsampled\")\ndisplay(files)"
      ]
    },
    {
      "cell_type": "markdown",
      "metadata": {
        "application/vnd.databricks.v1+cell": {
          "cellMetadata": {},
          "inputWidgets": {},
          "nuid": "d52b9e21-c722-4c92-939a-985cff47e357",
          "showTitle": false,
          "tableResultSettingsMap": {},
          "title": ""
        }
      },
      "source": [
        "#### Scala - List Files"
      ]
    },
    {
      "cell_type": "code",
      "execution_count": 0,
      "metadata": {
        "application/vnd.databricks.v1+cell": {
          "cellMetadata": {},
          "inputWidgets": {},
          "nuid": "ffc05229-69ba-40d3-b807-b083a2a79950",
          "showTitle": false,
          "tableResultSettingsMap": {},
          "title": ""
        }
      },
      "outputs": [],
      "source": [
        "%scala\nval files = dbutils.fs.ls(\"/databricks-datasets/nyctaxi-with-zipcodes/subsampled\")\ndisplay(files)"
      ]
    },
    {
      "cell_type": "markdown",
      "metadata": {
        "application/vnd.databricks.v1+cell": {
          "cellMetadata": {},
          "inputWidgets": {},
          "nuid": "fa74ea85-31b4-4d40-8d73-4eb44e36a320",
          "showTitle": false,
          "tableResultSettingsMap": {},
          "title": ""
        }
      },
      "source": [
        "## 2. CREATE TABLE Operations"
      ]
    },
    {
      "cell_type": "markdown",
      "metadata": {
        "application/vnd.databricks.v1+cell": {
          "cellMetadata": {},
          "inputWidgets": {},
          "nuid": "6d010683-b6ff-4f6a-96ac-c0da9ef5f958",
          "showTitle": false,
          "tableResultSettingsMap": {},
          "title": ""
        }
      },
      "source": [
        "#### SQL - Create Table"
      ]
    },
    {
      "cell_type": "code",
      "execution_count": 0,
      "metadata": {
        "application/vnd.databricks.v1+cell": {
          "cellMetadata": {},
          "inputWidgets": {},
          "nuid": "26dc044d-0b42-4fbd-9106-584e76d585a8",
          "showTitle": false,
          "tableResultSettingsMap": {},
          "title": ""
        }
      },
      "outputs": [],
      "source": [
        "%sql\nCREATE TABLE IF NOT EXISTS students (id INT, name STRING, value DOUBLE)"
      ]
    },
    {
      "cell_type": "markdown",
      "metadata": {
        "application/vnd.databricks.v1+cell": {
          "cellMetadata": {},
          "inputWidgets": {},
          "nuid": "6f3d895a-f6f9-412c-9eb9-096e93d11855",
          "showTitle": false,
          "tableResultSettingsMap": {},
          "title": ""
        }
      },
      "source": [
        "#### PySpark - Create Table"
      ]
    },
    {
      "cell_type": "code",
      "execution_count": 0,
      "metadata": {
        "application/vnd.databricks.v1+cell": {
          "cellMetadata": {},
          "inputWidgets": {},
          "nuid": "dd355daf-208d-421f-989d-abaa9edd309e",
          "showTitle": false,
          "tableResultSettingsMap": {},
          "title": ""
        }
      },
      "outputs": [],
      "source": [
        "from pyspark.sql.types import *\nschema = StructType([StructField(\"id\", IntegerType()), StructField(\"name\", StringType()), StructField(\"value\", DoubleType())])\nempty_df = spark.createDataFrame([], schema)\nempty_df.write.format(\"delta\").mode(\"ignore\").saveAsTable(\"students\")"
      ]
    },
    {
      "cell_type": "markdown",
      "metadata": {
        "application/vnd.databricks.v1+cell": {
          "cellMetadata": {},
          "inputWidgets": {},
          "nuid": "9c7b0404-1232-4945-b211-25e9b0844b22",
          "showTitle": false,
          "tableResultSettingsMap": {},
          "title": ""
        }
      },
      "source": [
        "#### Scala - Create Table"
      ]
    },
    {
      "cell_type": "code",
      "execution_count": 0,
      "metadata": {
        "application/vnd.databricks.v1+cell": {
          "cellMetadata": {},
          "inputWidgets": {},
          "nuid": "a0517c3e-1748-4f64-b029-b1c7cd16ddd7",
          "showTitle": false,
          "tableResultSettingsMap": {},
          "title": ""
        }
      },
      "outputs": [],
      "source": [
        "%scala\nimport org.apache.spark.sql.types._\nval schema = StructType(Array(StructField(\"id\", IntegerType), StructField(\"name\", StringType), StructField(\"value\", DoubleType)))\nval emptyDF = spark.createDataFrame(spark.sparkContext.emptyRDD[Row], schema)\nemptyDF.write.format(\"delta\").mode(\"ignore\").saveAsTable(\"students\")"
      ]
    },
    {
      "cell_type": "markdown",
      "metadata": {
        "application/vnd.databricks.v1+cell": {
          "cellMetadata": {},
          "inputWidgets": {},
          "nuid": "23b43d02-32bf-4303-ae5e-5ef37e532496",
          "showTitle": false,
          "tableResultSettingsMap": {},
          "title": ""
        }
      },
      "source": [
        "## 3. INSERT Operations"
      ]
    },
    {
      "cell_type": "markdown",
      "metadata": {
        "application/vnd.databricks.v1+cell": {
          "cellMetadata": {},
          "inputWidgets": {},
          "nuid": "a53e7adb-3caf-4e93-a1af-4d16c5e55ed9",
          "showTitle": false,
          "tableResultSettingsMap": {},
          "title": ""
        }
      },
      "source": [
        "#### SQL - Insert Records"
      ]
    },
    {
      "cell_type": "code",
      "execution_count": 0,
      "metadata": {
        "application/vnd.databricks.v1+cell": {
          "cellMetadata": {},
          "inputWidgets": {},
          "nuid": "89e9e908-bc85-4b0b-8b83-b29cb073b1bb",
          "showTitle": false,
          "tableResultSettingsMap": {},
          "title": ""
        }
      },
      "outputs": [],
      "source": [
        "%sql\nINSERT INTO students VALUES (1, \"Yve\", 1.0), (2, \"Omar\", 2.5), (3, \"Elia\", 3.3)"
      ]
    },
    {
      "cell_type": "markdown",
      "metadata": {
        "application/vnd.databricks.v1+cell": {
          "cellMetadata": {},
          "inputWidgets": {},
          "nuid": "dadc4dc2-287d-4055-b2b6-ffeb931f884c",
          "showTitle": false,
          "tableResultSettingsMap": {},
          "title": ""
        }
      },
      "source": [
        "#### PySpark - Insert Records"
      ]
    },
    {
      "cell_type": "code",
      "execution_count": 0,
      "metadata": {
        "application/vnd.databricks.v1+cell": {
          "cellMetadata": {},
          "inputWidgets": {},
          "nuid": "9bfc6e85-c45c-4b7e-abc3-36fa28ed50ae",
          "showTitle": false,
          "tableResultSettingsMap": {},
          "title": ""
        }
      },
      "outputs": [],
      "source": [
        "from pyspark.sql import Row\nnew_data = [Row(id=4, name=\"Ted\", value=4.7), Row(id=5, name=\"Tiffany\", value=5.5)]\nnew_df = spark.createDataFrame(new_data)\nnew_df.write.format(\"delta\").mode(\"append\").saveAsTable(\"students\")"
      ]
    },
    {
      "cell_type": "markdown",
      "metadata": {
        "application/vnd.databricks.v1+cell": {
          "cellMetadata": {},
          "inputWidgets": {},
          "nuid": "043ec543-a458-40e7-a488-4083cade07b0",
          "showTitle": false,
          "tableResultSettingsMap": {},
          "title": ""
        }
      },
      "source": [
        "#### Scala - Insert Records"
      ]
    },
    {
      "cell_type": "code",
      "execution_count": 0,
      "metadata": {
        "application/vnd.databricks.v1+cell": {
          "cellMetadata": {},
          "inputWidgets": {},
          "nuid": "58850341-6947-48c9-a369-183160147a22",
          "showTitle": false,
          "tableResultSettingsMap": {},
          "title": ""
        }
      },
      "outputs": [],
      "source": [
        "%scala\nimport spark.implicits._\nval newData = Seq((6, \"Vini\", 6.3), (7, \"Alice\", 7.8)).toDF(\"id\", \"name\", \"value\")\nnewData.write.format(\"delta\").mode(\"append\").saveAsTable(\"students\")"
      ]
    },
    {
      "cell_type": "markdown",
      "metadata": {
        "application/vnd.databricks.v1+cell": {
          "cellMetadata": {},
          "inputWidgets": {},
          "nuid": "dfa3eded-3ac0-4910-97ad-30ef364bf371",
          "showTitle": false,
          "tableResultSettingsMap": {},
          "title": ""
        }
      },
      "source": [
        "## 4. SELECT Operations"
      ]
    },
    {
      "cell_type": "markdown",
      "metadata": {
        "application/vnd.databricks.v1+cell": {
          "cellMetadata": {},
          "inputWidgets": {},
          "nuid": "e037ee1f-8b1c-4568-b39c-872e8a6e5e66",
          "showTitle": false,
          "tableResultSettingsMap": {},
          "title": ""
        }
      },
      "source": [
        "#### SQL - Select Records"
      ]
    },
    {
      "cell_type": "code",
      "execution_count": 0,
      "metadata": {
        "application/vnd.databricks.v1+cell": {
          "cellMetadata": {},
          "inputWidgets": {},
          "nuid": "b78a98d7-e7f1-4072-be39-0286596e3a68",
          "showTitle": false,
          "tableResultSettingsMap": {},
          "title": ""
        }
      },
      "outputs": [],
      "source": [
        "%sql\nSELECT * FROM students"
      ]
    },
    {
      "cell_type": "markdown",
      "metadata": {
        "application/vnd.databricks.v1+cell": {
          "cellMetadata": {},
          "inputWidgets": {},
          "nuid": "26bf1d3b-0aca-4843-acd3-79dedcb89c56",
          "showTitle": false,
          "tableResultSettingsMap": {},
          "title": ""
        }
      },
      "source": [
        "#### PySpark - Select Records"
      ]
    },
    {
      "cell_type": "code",
      "execution_count": 0,
      "metadata": {
        "application/vnd.databricks.v1+cell": {
          "cellMetadata": {},
          "inputWidgets": {},
          "nuid": "e06a8e6e-c045-412a-af9e-5bb143f00294",
          "showTitle": false,
          "tableResultSettingsMap": {},
          "title": ""
        }
      },
      "outputs": [],
      "source": [
        "df = spark.table(\"students\")\ndisplay(df)"
      ]
    },
    {
      "cell_type": "markdown",
      "metadata": {
        "application/vnd.databricks.v1+cell": {
          "cellMetadata": {},
          "inputWidgets": {},
          "nuid": "839f2d2c-c546-4115-8b7a-bd5775af4657",
          "showTitle": false,
          "tableResultSettingsMap": {},
          "title": ""
        }
      },
      "source": [
        "#### Scala - Select Records"
      ]
    },
    {
      "cell_type": "code",
      "execution_count": 0,
      "metadata": {
        "application/vnd.databricks.v1+cell": {
          "cellMetadata": {},
          "inputWidgets": {},
          "nuid": "0bb97497-ed10-46ea-8290-ddcd4b6e7a8f",
          "showTitle": false,
          "tableResultSettingsMap": {},
          "title": ""
        }
      },
      "outputs": [],
      "source": [
        "%scala\nval df = spark.table(\"students\")\ndisplay(df)"
      ]
    },
    {
      "cell_type": "markdown",
      "metadata": {
        "application/vnd.databricks.v1+cell": {
          "cellMetadata": {},
          "inputWidgets": {},
          "nuid": "c8b2a258-7a19-4872-a2e9-9cd0bbbf768e",
          "showTitle": false,
          "tableResultSettingsMap": {},
          "title": ""
        }
      },
      "source": [
        "## 5. UPDATE Operations"
      ]
    },
    {
      "cell_type": "markdown",
      "metadata": {
        "application/vnd.databricks.v1+cell": {
          "cellMetadata": {},
          "inputWidgets": {},
          "nuid": "8d86e13d-910e-460a-9a17-222732599d5f",
          "showTitle": false,
          "tableResultSettingsMap": {},
          "title": ""
        }
      },
      "source": [
        "#### SQL - Update Records"
      ]
    },
    {
      "cell_type": "code",
      "execution_count": 0,
      "metadata": {
        "application/vnd.databricks.v1+cell": {
          "cellMetadata": {},
          "inputWidgets": {},
          "nuid": "e94edd7d-1a28-4060-8c43-7ff1e586cfde",
          "showTitle": false,
          "tableResultSettingsMap": {},
          "title": ""
        }
      },
      "outputs": [],
      "source": [
        "%sql\nUPDATE students SET value = value + 1 WHERE name LIKE \"T%\""
      ]
    },
    {
      "cell_type": "markdown",
      "metadata": {
        "application/vnd.databricks.v1+cell": {
          "cellMetadata": {},
          "inputWidgets": {},
          "nuid": "22bb70b0-2f6a-4324-b050-988cdca2af4d",
          "showTitle": false,
          "tableResultSettingsMap": {},
          "title": ""
        }
      },
      "source": [
        "#### PySpark - Update Records"
      ]
    },
    {
      "cell_type": "code",
      "execution_count": 0,
      "metadata": {
        "application/vnd.databricks.v1+cell": {
          "cellMetadata": {},
          "inputWidgets": {},
          "nuid": "718458dd-1e09-474b-a132-40c7dfa61367",
          "showTitle": false,
          "tableResultSettingsMap": {},
          "title": ""
        }
      },
      "outputs": [],
      "source": [
        "from delta.tables import DeltaTable\ndeltaTable = DeltaTable.forName(spark, \"students\")\ndeltaTable.update(condition=\"name LIKE 'T%'\", set={\"value\": \"value + 1\"})"
      ]
    },
    {
      "cell_type": "markdown",
      "metadata": {
        "application/vnd.databricks.v1+cell": {
          "cellMetadata": {},
          "inputWidgets": {},
          "nuid": "b63943f9-4f73-47d5-92c3-3f385ec455b6",
          "showTitle": false,
          "tableResultSettingsMap": {},
          "title": ""
        }
      },
      "source": [
        "#### Scala - Update Records"
      ]
    },
    {
      "cell_type": "code",
      "execution_count": 0,
      "metadata": {
        "application/vnd.databricks.v1+cell": {
          "cellMetadata": {},
          "inputWidgets": {},
          "nuid": "ae477083-8371-4ecf-b3c9-a0c7966cb865",
          "showTitle": false,
          "tableResultSettingsMap": {},
          "title": ""
        }
      },
      "outputs": [],
      "source": [
        "%scala\nimport io.delta.tables._\nimport org.apache.spark.sql.functions._\nval deltaTable = DeltaTable.forName(spark, \"students\")\ndeltaTable.update(expr(\"name LIKE 'T%'\"), Map(\"value\" -> expr(\"value + 1\")))"
      ]
    },
    {
      "cell_type": "markdown",
      "metadata": {
        "application/vnd.databricks.v1+cell": {
          "cellMetadata": {},
          "inputWidgets": {},
          "nuid": "6778968c-a825-4cf5-aadb-9b6c60a05f2b",
          "showTitle": false,
          "tableResultSettingsMap": {},
          "title": ""
        }
      },
      "source": [
        "## 6. DELETE Operations"
      ]
    },
    {
      "cell_type": "markdown",
      "metadata": {
        "application/vnd.databricks.v1+cell": {
          "cellMetadata": {},
          "inputWidgets": {},
          "nuid": "1b379260-5741-4de0-9459-f7d7da5d3caf",
          "showTitle": false,
          "tableResultSettingsMap": {},
          "title": ""
        }
      },
      "source": [
        "#### SQL - Delete Records"
      ]
    },
    {
      "cell_type": "code",
      "execution_count": 0,
      "metadata": {
        "application/vnd.databricks.v1+cell": {
          "cellMetadata": {},
          "inputWidgets": {},
          "nuid": "deadad52-18ca-42be-8a37-94b29dfcc332",
          "showTitle": false,
          "tableResultSettingsMap": {},
          "title": ""
        }
      },
      "outputs": [],
      "source": [
        "%sql\nDELETE FROM students WHERE value > 6"
      ]
    },
    {
      "cell_type": "markdown",
      "metadata": {
        "application/vnd.databricks.v1+cell": {
          "cellMetadata": {},
          "inputWidgets": {},
          "nuid": "4716a3f1-58bb-4d32-9aef-b629f679b976",
          "showTitle": false,
          "tableResultSettingsMap": {},
          "title": ""
        }
      },
      "source": [
        "#### PySpark - Delete Records"
      ]
    },
    {
      "cell_type": "code",
      "execution_count": 0,
      "metadata": {
        "application/vnd.databricks.v1+cell": {
          "cellMetadata": {},
          "inputWidgets": {},
          "nuid": "6089866e-e541-4eaa-8734-21dd16ec796d",
          "showTitle": false,
          "tableResultSettingsMap": {},
          "title": ""
        }
      },
      "outputs": [],
      "source": [
        "from delta.tables import DeltaTable\ndeltaTable = DeltaTable.forName(spark, \"students\")\ndeltaTable.delete(\"value > 6\")"
      ]
    },
    {
      "cell_type": "markdown",
      "metadata": {
        "application/vnd.databricks.v1+cell": {
          "cellMetadata": {},
          "inputWidgets": {},
          "nuid": "efb36e68-5c0d-446c-80e6-5b4f95071bfe",
          "showTitle": false,
          "tableResultSettingsMap": {},
          "title": ""
        }
      },
      "source": [
        "#### Scala - Delete Records"
      ]
    },
    {
      "cell_type": "code",
      "execution_count": 0,
      "metadata": {
        "application/vnd.databricks.v1+cell": {
          "cellMetadata": {},
          "inputWidgets": {},
          "nuid": "dade9d21-b613-4a53-a3f3-e4014b5f7d60",
          "showTitle": false,
          "tableResultSettingsMap": {},
          "title": ""
        }
      },
      "outputs": [],
      "source": [
        "%scala\nimport io.delta.tables._\nval deltaTable = DeltaTable.forName(spark, \"students\")\ndeltaTable.delete(expr(\"value > 6\"))"
      ]
    },
    {
      "cell_type": "markdown",
      "metadata": {
        "application/vnd.databricks.v1+cell": {
          "cellMetadata": {},
          "inputWidgets": {},
          "nuid": "f13cad2e-a90f-4d73-891a-9b5a2145359a",
          "showTitle": false,
          "tableResultSettingsMap": {},
          "title": ""
        }
      },
      "source": [
        "## 7. MERGE Operations (UPSERT)"
      ]
    },
    {
      "cell_type": "markdown",
      "metadata": {
        "application/vnd.databricks.v1+cell": {
          "cellMetadata": {},
          "inputWidgets": {},
          "nuid": "c9f4a625-9498-48c4-9b15-ada7daa17ccb",
          "showTitle": false,
          "tableResultSettingsMap": {},
          "title": ""
        }
      },
      "source": [
        "#### SQL - Create Updates and Merge"
      ]
    },
    {
      "cell_type": "code",
      "execution_count": 0,
      "metadata": {
        "application/vnd.databricks.v1+cell": {
          "cellMetadata": {},
          "inputWidgets": {},
          "nuid": "3b38fd00-e129-4b4f-9926-ac8adb14e48d",
          "showTitle": false,
          "tableResultSettingsMap": {},
          "title": ""
        }
      },
      "outputs": [],
      "source": [
        "%sql\nCREATE OR REPLACE TEMP VIEW updates(id, name, value, type) AS VALUES\n(2, \"Omar\", 15.2, \"update\"), (3, \"\", null, \"delete\"), (7, \"Blue\", 7.7, \"insert\")"
      ]
    },
    {
      "cell_type": "code",
      "execution_count": 0,
      "metadata": {
        "application/vnd.databricks.v1+cell": {
          "cellMetadata": {},
          "inputWidgets": {},
          "nuid": "9988d353-4f4a-4ce3-863e-2e47bd3159a5",
          "showTitle": false,
          "tableResultSettingsMap": {},
          "title": ""
        }
      },
      "outputs": [],
      "source": [
        "%sql\nMERGE INTO students b USING updates u ON b.id=u.id\nWHEN MATCHED AND u.type = \"update\" THEN UPDATE SET *\nWHEN MATCHED AND u.type = \"delete\" THEN DELETE\nWHEN NOT MATCHED AND u.type = \"insert\" THEN INSERT *"
      ]
    },
    {
      "cell_type": "markdown",
      "metadata": {
        "application/vnd.databricks.v1+cell": {
          "cellMetadata": {},
          "inputWidgets": {},
          "nuid": "5247d634-0d9a-4cfb-85f8-876518676306",
          "showTitle": false,
          "tableResultSettingsMap": {},
          "title": ""
        }
      },
      "source": [
        "#### PySpark - Merge Operation"
      ]
    },
    {
      "cell_type": "code",
      "execution_count": 0,
      "metadata": {
        "application/vnd.databricks.v1+cell": {
          "cellMetadata": {},
          "inputWidgets": {},
          "nuid": "116197e3-9fc3-4f61-bac1-65955373edc8",
          "showTitle": false,
          "tableResultSettingsMap": {},
          "title": ""
        }
      },
      "outputs": [],
      "source": [
        "from delta.tables import DeltaTable\nfrom pyspark.sql import Row\nupdates_data = [Row(id=2, name=\"Omar\", value=15.2, type=\"update\"), Row(id=3, name=\"\", value=None, type=\"delete\")]\nupdates_df = spark.createDataFrame(updates_data)\ndeltaTable = DeltaTable.forName(spark, \"students\")\ndeltaTable.alias(\"b\").merge(updates_df.alias(\"u\"), \"b.id = u.id\").whenMatchedUpdate(condition=\"u.type = 'update'\", set={\"name\": \"u.name\", \"value\": \"u.value\"}).whenMatchedDelete(condition=\"u.type = 'delete'\").whenNotMatchedInsert(condition=\"u.type = 'insert'\", values={\"id\": \"u.id\", \"name\": \"u.name\", \"value\": \"u.value\"}).execute()"
      ]
    },
    {
      "cell_type": "markdown",
      "metadata": {
        "application/vnd.databricks.v1+cell": {
          "cellMetadata": {},
          "inputWidgets": {},
          "nuid": "b4da33a3-445b-4476-aea5-823927156751",
          "showTitle": false,
          "tableResultSettingsMap": {},
          "title": ""
        }
      },
      "source": [
        "#### Scala - Merge Operation"
      ]
    },
    {
      "cell_type": "code",
      "execution_count": 0,
      "metadata": {
        "application/vnd.databricks.v1+cell": {
          "cellMetadata": {},
          "inputWidgets": {},
          "nuid": "886c3fa1-6e15-4e95-86ea-9ed35c786e71",
          "showTitle": false,
          "tableResultSettingsMap": {},
          "title": ""
        }
      },
      "outputs": [],
      "source": [
        "%scala\nimport io.delta.tables._\nimport org.apache.spark.sql.functions._\nval updatesDF = Seq((2, \"Omar\", 15.2, \"update\"), (3, \"\", 0.0, \"delete\")).toDF(\"id\", \"name\", \"value\", \"type\")\nval deltaTable = DeltaTable.forName(spark, \"students\")\ndeltaTable.as(\"b\").merge(updatesDF.as(\"u\"), \"b.id = u.id\").whenMatched(expr(\"u.type = 'update'\")).updateExpr(Map(\"name\" -> \"u.name\", \"value\" -> \"u.value\")).whenMatched(expr(\"u.type = 'delete'\")).delete().execute()"
      ]
    },
    {
      "cell_type": "markdown",
      "metadata": {
        "application/vnd.databricks.v1+cell": {
          "cellMetadata": {},
          "inputWidgets": {},
          "nuid": "f2828d5b-5b7f-4fd6-a0c9-f48af517b8da",
          "showTitle": false,
          "tableResultSettingsMap": {},
          "title": ""
        }
      },
      "source": [
        "## 8. Table Introspection"
      ]
    },
    {
      "cell_type": "markdown",
      "metadata": {
        "application/vnd.databricks.v1+cell": {
          "cellMetadata": {},
          "inputWidgets": {},
          "nuid": "b6630e62-c6cc-48c4-a0a0-4770aa3a4c37",
          "showTitle": false,
          "tableResultSettingsMap": {},
          "title": ""
        }
      },
      "source": [
        "#### SQL - DESCRIBE Operations"
      ]
    },
    {
      "cell_type": "code",
      "execution_count": 0,
      "metadata": {
        "application/vnd.databricks.v1+cell": {
          "cellMetadata": {},
          "inputWidgets": {},
          "nuid": "955727f3-7c9d-4bf0-860f-3928f513b296",
          "showTitle": false,
          "tableResultSettingsMap": {},
          "title": ""
        }
      },
      "outputs": [],
      "source": [
        "%sql\nDESCRIBE EXTENDED students"
      ]
    },
    {
      "cell_type": "code",
      "execution_count": 0,
      "metadata": {
        "application/vnd.databricks.v1+cell": {
          "cellMetadata": {},
          "inputWidgets": {},
          "nuid": "22323eb2-d1b8-424a-b1fa-151339b6dada",
          "showTitle": false,
          "tableResultSettingsMap": {},
          "title": ""
        }
      },
      "outputs": [],
      "source": [
        "%sql\nDESCRIBE DETAIL students"
      ]
    },
    {
      "cell_type": "code",
      "execution_count": 0,
      "metadata": {
        "application/vnd.databricks.v1+cell": {
          "cellMetadata": {},
          "inputWidgets": {},
          "nuid": "70a8e57d-fc64-4a0c-a2ce-510bcc75e703",
          "showTitle": false,
          "tableResultSettingsMap": {},
          "title": ""
        }
      },
      "outputs": [],
      "source": [
        "%sql\nDESCRIBE HISTORY students"
      ]
    },
    {
      "cell_type": "markdown",
      "metadata": {
        "application/vnd.databricks.v1+cell": {
          "cellMetadata": {},
          "inputWidgets": {},
          "nuid": "9bc0eb0c-5438-40fc-bb20-e0f64a539d2d",
          "showTitle": false,
          "tableResultSettingsMap": {},
          "title": ""
        }
      },
      "source": [
        "#### PySpark - Table Information"
      ]
    },
    {
      "cell_type": "code",
      "execution_count": 0,
      "metadata": {
        "application/vnd.databricks.v1+cell": {
          "cellMetadata": {},
          "inputWidgets": {},
          "nuid": "714b5560-992b-4090-a919-c6ba85a0dc1f",
          "showTitle": false,
          "tableResultSettingsMap": {},
          "title": ""
        }
      },
      "outputs": [],
      "source": [
        "from delta.tables import DeltaTable\ndeltaTable = DeltaTable.forName(spark, \"students\")\nhistory_df = deltaTable.history()\ndisplay(history_df)"
      ]
    },
    {
      "cell_type": "markdown",
      "metadata": {
        "application/vnd.databricks.v1+cell": {
          "cellMetadata": {},
          "inputWidgets": {},
          "nuid": "4dca108b-f18b-484a-a5d3-8a0af4929cd7",
          "showTitle": false,
          "tableResultSettingsMap": {},
          "title": ""
        }
      },
      "source": [
        "#### Scala - Table Information"
      ]
    },
    {
      "cell_type": "code",
      "execution_count": 0,
      "metadata": {
        "application/vnd.databricks.v1+cell": {
          "cellMetadata": {},
          "inputWidgets": {},
          "nuid": "75fd6084-1d7a-4bf7-bcdf-40c7da3483f9",
          "showTitle": false,
          "tableResultSettingsMap": {},
          "title": ""
        }
      },
      "outputs": [],
      "source": [
        "%scala\nimport io.delta.tables._\nval deltaTable = DeltaTable.forName(spark, \"students\")\nval historyDF = deltaTable.history()\ndisplay(historyDF)"
      ]
    },
    {
      "cell_type": "markdown",
      "metadata": {
        "application/vnd.databricks.v1+cell": {
          "cellMetadata": {},
          "inputWidgets": {},
          "nuid": "4c6c3b99-f81e-42da-ba05-01f7d7f3e41d",
          "showTitle": false,
          "tableResultSettingsMap": {},
          "title": ""
        }
      },
      "source": [
        "## 9. Time Travel"
      ]
    },
    {
      "cell_type": "markdown",
      "metadata": {
        "application/vnd.databricks.v1+cell": {
          "cellMetadata": {},
          "inputWidgets": {},
          "nuid": "77261056-6d3e-4bd4-8014-49225e22ae95",
          "showTitle": false,
          "tableResultSettingsMap": {},
          "title": ""
        }
      },
      "source": [
        "#### SQL - Time Travel by Version"
      ]
    },
    {
      "cell_type": "code",
      "execution_count": 0,
      "metadata": {
        "application/vnd.databricks.v1+cell": {
          "cellMetadata": {},
          "inputWidgets": {},
          "nuid": "7ce95eca-ccb1-49d0-bc11-74a350f46821",
          "showTitle": false,
          "tableResultSettingsMap": {},
          "title": ""
        }
      },
      "outputs": [],
      "source": [
        "%sql\nSELECT * FROM students VERSION AS OF 3"
      ]
    },
    {
      "cell_type": "markdown",
      "metadata": {
        "application/vnd.databricks.v1+cell": {
          "cellMetadata": {},
          "inputWidgets": {},
          "nuid": "71af009c-1de5-4980-b71e-2b071844e6ce",
          "showTitle": false,
          "tableResultSettingsMap": {},
          "title": ""
        }
      },
      "source": [
        "#### PySpark - Time Travel"
      ]
    },
    {
      "cell_type": "code",
      "execution_count": 0,
      "metadata": {
        "application/vnd.databricks.v1+cell": {
          "cellMetadata": {},
          "inputWidgets": {},
          "nuid": "45e006dc-150a-4f06-aab6-3e6a51335828",
          "showTitle": false,
          "tableResultSettingsMap": {},
          "title": ""
        }
      },
      "outputs": [],
      "source": [
        "df_version = spark.read.format(\"delta\").option(\"versionAsOf\", 3).table(\"students\")\ndisplay(df_version)"
      ]
    },
    {
      "cell_type": "markdown",
      "metadata": {
        "application/vnd.databricks.v1+cell": {
          "cellMetadata": {},
          "inputWidgets": {},
          "nuid": "89bdfc4e-095d-4e3c-b7c0-ed1ea0c07b14",
          "showTitle": false,
          "tableResultSettingsMap": {},
          "title": ""
        }
      },
      "source": [
        "#### Scala - Time Travel"
      ]
    },
    {
      "cell_type": "code",
      "execution_count": 0,
      "metadata": {
        "application/vnd.databricks.v1+cell": {
          "cellMetadata": {},
          "inputWidgets": {},
          "nuid": "8d2f3230-f509-44e6-902a-614a32e8f7d3",
          "showTitle": false,
          "tableResultSettingsMap": {},
          "title": ""
        }
      },
      "outputs": [],
      "source": [
        "%scala\nval dfVersion = spark.read.format(\"delta\").option(\"versionAsOf\", 3).table(\"students\")\ndisplay(dfVersion)"
      ]
    },
    {
      "cell_type": "markdown",
      "metadata": {
        "application/vnd.databricks.v1+cell": {
          "cellMetadata": {},
          "inputWidgets": {},
          "nuid": "4a0559c4-46bc-41d1-87bd-0fa0aad68e8e",
          "showTitle": false,
          "tableResultSettingsMap": {},
          "title": ""
        }
      },
      "source": [
        "## 10. VACUUM Operations"
      ]
    },
    {
      "cell_type": "markdown",
      "metadata": {
        "application/vnd.databricks.v1+cell": {
          "cellMetadata": {},
          "inputWidgets": {},
          "nuid": "5a4ed552-8cc4-4102-a92d-198f596ef827",
          "showTitle": false,
          "tableResultSettingsMap": {},
          "title": ""
        }
      },
      "source": [
        "#### SQL - VACUUM"
      ]
    },
    {
      "cell_type": "code",
      "execution_count": 0,
      "metadata": {
        "application/vnd.databricks.v1+cell": {
          "cellMetadata": {},
          "inputWidgets": {},
          "nuid": "6cf9c7bb-a528-4d24-9d0d-c80835180914",
          "showTitle": false,
          "tableResultSettingsMap": {},
          "title": ""
        }
      },
      "outputs": [],
      "source": [
        "%sql\nVACUUM students RETAIN 168 HOURS DRY RUN"
      ]
    },
    {
      "cell_type": "markdown",
      "metadata": {
        "application/vnd.databricks.v1+cell": {
          "cellMetadata": {},
          "inputWidgets": {},
          "nuid": "a07a340b-c49f-487b-be0f-0bc2ba882ae4",
          "showTitle": false,
          "tableResultSettingsMap": {},
          "title": ""
        }
      },
      "source": [
        "#### PySpark - VACUUM"
      ]
    },
    {
      "cell_type": "code",
      "execution_count": 0,
      "metadata": {
        "application/vnd.databricks.v1+cell": {
          "cellMetadata": {},
          "inputWidgets": {},
          "nuid": "954683a3-3fa8-40f1-b80a-adbf797cc71b",
          "showTitle": false,
          "tableResultSettingsMap": {},
          "title": ""
        }
      },
      "outputs": [],
      "source": [
        "from delta.tables import DeltaTable\ndeltaTable = DeltaTable.forName(spark, \"students\")\ndeltaTable.vacuum(168)"
      ]
    },
    {
      "cell_type": "markdown",
      "metadata": {
        "application/vnd.databricks.v1+cell": {
          "cellMetadata": {},
          "inputWidgets": {},
          "nuid": "bc4931af-dcca-45b2-82ec-2fe8cff4ca31",
          "showTitle": false,
          "tableResultSettingsMap": {},
          "title": ""
        }
      },
      "source": [
        "#### Scala - VACUUM"
      ]
    },
    {
      "cell_type": "code",
      "execution_count": 0,
      "metadata": {
        "application/vnd.databricks.v1+cell": {
          "cellMetadata": {},
          "inputWidgets": {},
          "nuid": "14c191f2-fa0e-4e9b-b145-b2a8c408fa26",
          "showTitle": false,
          "tableResultSettingsMap": {},
          "title": ""
        }
      },
      "outputs": [],
      "source": [
        "%scala\nimport io.delta.tables._\nval deltaTable = DeltaTable.forName(spark, \"students\")\ndeltaTable.vacuum(168)"
      ]
    },
    {
      "cell_type": "markdown",
      "metadata": {
        "application/vnd.databricks.v1+cell": {
          "cellMetadata": {},
          "inputWidgets": {},
          "nuid": "d88ad5e7-d7a2-4466-8af6-e783c6a75792",
          "showTitle": false,
          "tableResultSettingsMap": {},
          "title": ""
        }
      },
      "source": [
        "## 11. Data Ingestion"
      ]
    },
    {
      "cell_type": "markdown",
      "metadata": {
        "application/vnd.databricks.v1+cell": {
          "cellMetadata": {},
          "inputWidgets": {},
          "nuid": "3ba011e4-4edc-49ef-93ca-95d920a21319",
          "showTitle": false,
          "tableResultSettingsMap": {},
          "title": ""
        }
      },
      "source": [
        "#### SQL - Read JSON"
      ]
    },
    {
      "cell_type": "code",
      "execution_count": 0,
      "metadata": {
        "application/vnd.databricks.v1+cell": {
          "cellMetadata": {},
          "inputWidgets": {},
          "nuid": "403b4eaa-1127-49cf-918d-df74ca61fd17",
          "showTitle": false,
          "tableResultSettingsMap": {},
          "title": ""
        }
      },
      "outputs": [],
      "source": [
        "%sql\nSELECT * FROM json.`/Volumes/workspace/default/input/data.json`"
      ]
    },
    {
      "cell_type": "markdown",
      "metadata": {
        "application/vnd.databricks.v1+cell": {
          "cellMetadata": {},
          "inputWidgets": {},
          "nuid": "fbeb4931-f342-460f-a1e7-da3d727dc5e7",
          "showTitle": false,
          "tableResultSettingsMap": {},
          "title": ""
        }
      },
      "source": [
        "#### PySpark - Read JSON/CSV"
      ]
    },
    {
      "cell_type": "code",
      "execution_count": 0,
      "metadata": {
        "application/vnd.databricks.v1+cell": {
          "cellMetadata": {},
          "inputWidgets": {},
          "nuid": "33222d6e-efed-4dc3-b621-9fb20fcc125e",
          "showTitle": false,
          "tableResultSettingsMap": {},
          "title": ""
        }
      },
      "outputs": [],
      "source": [
        "json_df = spark.read.format(\"json\").load(\"/Volumes/workspace/default/input/data.json\")\ndisplay(json_df)\n\ncsv_df = spark.read.format(\"csv\").option(\"header\", \"true\").option(\"inferSchema\", \"true\").load(\"s3://bucket/file.csv\")\ndisplay(csv_df)"
      ]
    },
    {
      "cell_type": "markdown",
      "metadata": {
        "application/vnd.databricks.v1+cell": {
          "cellMetadata": {},
          "inputWidgets": {},
          "nuid": "003f5f34-3d41-4656-80dc-9dd44b0883c4",
          "showTitle": false,
          "tableResultSettingsMap": {},
          "title": ""
        }
      },
      "source": [
        "#### Scala - Read JSON/CSV"
      ]
    },
    {
      "cell_type": "code",
      "execution_count": 0,
      "metadata": {
        "application/vnd.databricks.v1+cell": {
          "cellMetadata": {},
          "inputWidgets": {},
          "nuid": "fce41031-ad71-43f3-b578-d8313400a7e3",
          "showTitle": false,
          "tableResultSettingsMap": {},
          "title": ""
        }
      },
      "outputs": [],
      "source": [
        "%scala\nval jsonDF = spark.read.format(\"json\").load(\"/Volumes/workspace/default/input/data.json\")\ndisplay(jsonDF)\n\nval csvDF = spark.read.format(\"csv\").option(\"header\", \"true\").option(\"inferSchema\", \"true\").load(\"s3://bucket/file.csv\")\ndisplay(csvDF)"
      ]
    },
    {
      "cell_type": "markdown",
      "metadata": {
        "application/vnd.databricks.v1+cell": {
          "cellMetadata": {},
          "inputWidgets": {},
          "nuid": "b467f2f7-513b-4a35-9cb6-1f1ff60d291b",
          "showTitle": false,
          "tableResultSettingsMap": {},
          "title": ""
        }
      },
      "source": [
        "## 12. JDBC Connections"
      ]
    },
    {
      "cell_type": "markdown",
      "metadata": {
        "application/vnd.databricks.v1+cell": {
          "cellMetadata": {},
          "inputWidgets": {},
          "nuid": "db653477-3e2b-427b-a20f-3451cff99e5f",
          "showTitle": false,
          "tableResultSettingsMap": {},
          "title": ""
        }
      },
      "source": [
        "#### SQL - JDBC Table"
      ]
    },
    {
      "cell_type": "code",
      "execution_count": 0,
      "metadata": {
        "application/vnd.databricks.v1+cell": {
          "cellMetadata": {},
          "inputWidgets": {},
          "nuid": "77282e14-6c94-4593-a363-437b4b33cc89",
          "showTitle": false,
          "tableResultSettingsMap": {},
          "title": ""
        }
      },
      "outputs": [],
      "source": [
        "%sql\nCREATE TABLE postgres_table USING JDBC OPTIONS (url=\"jdbc:postgresql://host:5432/db\", dbtable=\"schema.table\", user=\"user\", password=\"pass\")"
      ]
    },
    {
      "cell_type": "markdown",
      "metadata": {
        "application/vnd.databricks.v1+cell": {
          "cellMetadata": {},
          "inputWidgets": {},
          "nuid": "bb76aba9-059d-48d7-84a6-a1a1e460f46d",
          "showTitle": false,
          "tableResultSettingsMap": {},
          "title": ""
        }
      },
      "source": [
        "#### PySpark - Read JDBC"
      ]
    },
    {
      "cell_type": "code",
      "execution_count": 0,
      "metadata": {
        "application/vnd.databricks.v1+cell": {
          "cellMetadata": {},
          "inputWidgets": {},
          "nuid": "7f5a47f1-90c7-4178-b8eb-040956250e61",
          "showTitle": false,
          "tableResultSettingsMap": {},
          "title": ""
        }
      },
      "outputs": [],
      "source": [
        "jdbc_df = spark.read.format(\"jdbc\").options(url=\"jdbc:postgresql://host:5432/db\", dbtable=\"schema.table\", user=\"user\", password=\"pass\", driver=\"org.postgresql.Driver\").load()\ndisplay(jdbc_df)"
      ]
    },
    {
      "cell_type": "markdown",
      "metadata": {
        "application/vnd.databricks.v1+cell": {
          "cellMetadata": {},
          "inputWidgets": {},
          "nuid": "f80c9641-d94c-4077-9b80-2d64d6dd6244",
          "showTitle": false,
          "tableResultSettingsMap": {},
          "title": ""
        }
      },
      "source": [
        "#### Scala - Read JDBC"
      ]
    },
    {
      "cell_type": "code",
      "execution_count": 0,
      "metadata": {
        "application/vnd.databricks.v1+cell": {
          "cellMetadata": {},
          "inputWidgets": {},
          "nuid": "6d324897-c75d-4c34-842a-3b00c87f61bb",
          "showTitle": false,
          "tableResultSettingsMap": {},
          "title": ""
        }
      },
      "outputs": [],
      "source": [
        "%scala\nval jdbcDF = spark.read.format(\"jdbc\").option(\"url\", \"jdbc:postgresql://host:5432/db\").option(\"dbtable\", \"schema.table\").option(\"user\", \"user\").option(\"password\", \"pass\").option(\"driver\", \"org.postgresql.Driver\").load()\ndisplay(jdbcDF)"
      ]
    },
    {
      "cell_type": "markdown",
      "metadata": {
        "application/vnd.databricks.v1+cell": {
          "cellMetadata": {},
          "inputWidgets": {},
          "nuid": "4628fb7b-1651-4cde-a31a-b3b53cbb736e",
          "showTitle": false,
          "tableResultSettingsMap": {},
          "title": ""
        }
      },
      "source": [
        "## 13. Table Cloning"
      ]
    },
    {
      "cell_type": "markdown",
      "metadata": {
        "application/vnd.databricks.v1+cell": {
          "cellMetadata": {},
          "inputWidgets": {},
          "nuid": "6ee15269-0bd0-4a93-af8c-3930f50ef4f2",
          "showTitle": false,
          "tableResultSettingsMap": {},
          "title": ""
        }
      },
      "source": [
        "#### SQL - Deep and Shallow Clone"
      ]
    },
    {
      "cell_type": "code",
      "execution_count": 0,
      "metadata": {
        "application/vnd.databricks.v1+cell": {
          "cellMetadata": {},
          "inputWidgets": {},
          "nuid": "80f483d6-2a62-42d6-a03b-be4fa2afbea4",
          "showTitle": false,
          "tableResultSettingsMap": {},
          "title": ""
        }
      },
      "outputs": [],
      "source": [
        "%sql\nCREATE OR REPLACE TABLE students_deep_clone DEEP CLONE students"
      ]
    },
    {
      "cell_type": "code",
      "execution_count": 0,
      "metadata": {
        "application/vnd.databricks.v1+cell": {
          "cellMetadata": {},
          "inputWidgets": {},
          "nuid": "d61249c1-87f2-430d-a48c-740f0a5902d1",
          "showTitle": false,
          "tableResultSettingsMap": {},
          "title": ""
        }
      },
      "outputs": [],
      "source": [
        "%sql\nCREATE OR REPLACE TABLE students_shallow_clone SHALLOW CLONE students"
      ]
    },
    {
      "cell_type": "markdown",
      "metadata": {
        "application/vnd.databricks.v1+cell": {
          "cellMetadata": {},
          "inputWidgets": {},
          "nuid": "49ed5e30-e25e-4600-9d04-0c87e6923664",
          "showTitle": false,
          "tableResultSettingsMap": {},
          "title": ""
        }
      },
      "source": [
        "#### PySpark - Clone Tables"
      ]
    },
    {
      "cell_type": "code",
      "execution_count": 0,
      "metadata": {
        "application/vnd.databricks.v1+cell": {
          "cellMetadata": {},
          "inputWidgets": {},
          "nuid": "915737ee-e885-41d8-a744-0172f632683d",
          "showTitle": false,
          "tableResultSettingsMap": {},
          "title": ""
        }
      },
      "outputs": [],
      "source": [
        "spark.sql(\"CREATE OR REPLACE TABLE students_deep_clone DEEP CLONE students\")\nspark.sql(\"CREATE OR REPLACE TABLE students_shallow_clone SHALLOW CLONE students\")"
      ]
    },
    {
      "cell_type": "markdown",
      "metadata": {
        "application/vnd.databricks.v1+cell": {
          "cellMetadata": {},
          "inputWidgets": {},
          "nuid": "2dd7b516-c793-4a90-a138-60d16c63f32c",
          "showTitle": false,
          "tableResultSettingsMap": {},
          "title": ""
        }
      },
      "source": [
        "#### Scala - Clone Tables"
      ]
    },
    {
      "cell_type": "code",
      "execution_count": 0,
      "metadata": {
        "application/vnd.databricks.v1+cell": {
          "cellMetadata": {},
          "inputWidgets": {},
          "nuid": "e67a815a-4e87-4c7b-b775-36a955541e31",
          "showTitle": false,
          "tableResultSettingsMap": {},
          "title": ""
        }
      },
      "outputs": [],
      "source": [
        "%scala\nspark.sql(\"CREATE OR REPLACE TABLE students_deep_clone DEEP CLONE students\")\nspark.sql(\"CREATE OR REPLACE TABLE students_shallow_clone SHALLOW CLONE students\")"
      ]
    },
    {
      "cell_type": "markdown",
      "metadata": {
        "application/vnd.databricks.v1+cell": {
          "cellMetadata": {},
          "inputWidgets": {},
          "nuid": "2ac8da12-3215-4bb3-84ae-79e0109ceb72",
          "showTitle": false,
          "tableResultSettingsMap": {},
          "title": ""
        }
      },
      "source": [
        "## 14. User-Defined Functions"
      ]
    },
    {
      "cell_type": "markdown",
      "metadata": {
        "application/vnd.databricks.v1+cell": {
          "cellMetadata": {},
          "inputWidgets": {},
          "nuid": "aadf96c8-eff5-4088-8acc-0ed5b55df30f",
          "showTitle": false,
          "tableResultSettingsMap": {},
          "title": ""
        }
      },
      "source": [
        "#### SQL - Create UDF"
      ]
    },
    {
      "cell_type": "code",
      "execution_count": 0,
      "metadata": {
        "application/vnd.databricks.v1+cell": {
          "cellMetadata": {},
          "inputWidgets": {},
          "nuid": "44eb1621-fedb-4322-ab82-ca5e17c62c9a",
          "showTitle": false,
          "tableResultSettingsMap": {},
          "title": ""
        }
      },
      "outputs": [],
      "source": [
        "%sql\nCREATE FUNCTION foods_i_like(food STRING) RETURNS STRING\nRETURN CASE\n WHEN food = \"beans\" THEN \"I love beans\"\n WHEN food = \"potatoes\" THEN \"My favorite vegetable is potatoes\"\n ELSE concat(\"Do you have recipes for \", food, \"?\")\nEND"
      ]
    },
    {
      "cell_type": "markdown",
      "metadata": {
        "application/vnd.databricks.v1+cell": {
          "cellMetadata": {},
          "inputWidgets": {},
          "nuid": "7ef84267-3b1e-4391-bb8b-be6015407739",
          "showTitle": false,
          "tableResultSettingsMap": {},
          "title": ""
        }
      },
      "source": [
        "#### PySpark - Create UDF"
      ]
    },
    {
      "cell_type": "code",
      "execution_count": 0,
      "metadata": {
        "application/vnd.databricks.v1+cell": {
          "cellMetadata": {},
          "inputWidgets": {},
          "nuid": "15a80aa9-8ae2-426c-9a04-9a118d3fe420",
          "showTitle": false,
          "tableResultSettingsMap": {},
          "title": ""
        }
      },
      "outputs": [],
      "source": [
        "from pyspark.sql.functions import udf\nfrom pyspark.sql.types import StringType\n\ndef foods_i_like(food):\n    if food == \"beans\": return \"I love beans\"\n    elif food == \"potatoes\": return \"My favorite vegetable is potatoes\"\n    else: return f\"Do you have recipes for {food}?\"\n\nfoods_udf = udf(foods_i_like, StringType())\nspark.udf.register(\"foods_i_like\", foods_i_like, StringType())"
      ]
    },
    {
      "cell_type": "markdown",
      "metadata": {
        "application/vnd.databricks.v1+cell": {
          "cellMetadata": {},
          "inputWidgets": {},
          "nuid": "18819cdd-e0b4-4ad6-b560-f238f2d52b92",
          "showTitle": false,
          "tableResultSettingsMap": {},
          "title": ""
        }
      },
      "source": [
        "#### Scala - Create UDF"
      ]
    },
    {
      "cell_type": "code",
      "execution_count": 0,
      "metadata": {
        "application/vnd.databricks.v1+cell": {
          "cellMetadata": {},
          "inputWidgets": {},
          "nuid": "da01cac8-f186-4804-89d4-91b917737146",
          "showTitle": false,
          "tableResultSettingsMap": {},
          "title": ""
        }
      },
      "outputs": [],
      "source": [
        "%scala\nimport org.apache.spark.sql.functions.udf\nval foodsILike = (food: String) => food match {\n  case \"beans\" => \"I love beans\"\n  case \"potatoes\" => \"My favorite vegetable is potatoes\"\n  case _ => s\"Do you have recipes for $food?\"\n}\nval foodsUDF = udf(foodsILike)\nspark.udf.register(\"foods_i_like\", foodsILike)"
      ]
    },
    {
      "cell_type": "markdown",
      "metadata": {
        "application/vnd.databricks.v1+cell": {
          "cellMetadata": {},
          "inputWidgets": {},
          "nuid": "ce13cb20-e2e2-4088-af35-7c2949e920f5",
          "showTitle": false,
          "tableResultSettingsMap": {},
          "title": ""
        }
      },
      "source": [
        "## 15. Streaming Data (Auto Loader)"
      ]
    },
    {
      "cell_type": "markdown",
      "metadata": {
        "application/vnd.databricks.v1+cell": {
          "cellMetadata": {},
          "inputWidgets": {},
          "nuid": "48612663-7775-4a1f-b163-dfeb61c7db34",
          "showTitle": false,
          "tableResultSettingsMap": {},
          "title": ""
        }
      },
      "source": [
        "#### PySpark - Auto Loader"
      ]
    },
    {
      "cell_type": "code",
      "execution_count": 0,
      "metadata": {
        "application/vnd.databricks.v1+cell": {
          "cellMetadata": {},
          "inputWidgets": {},
          "nuid": "0ecf920e-fd10-49e0-be55-00104f9cfd49",
          "showTitle": false,
          "tableResultSettingsMap": {},
          "title": ""
        }
      },
      "outputs": [],
      "source": [
        "(spark.readStream.format(\"cloudFiles\")\n .option(\"cloudFiles.format\", \"csv\")\n .option(\"cloudFiles.schemaLocation\", \"/Volumes/workspace/default/schema\")\n .option(\"header\", \"true\")\n .load(\"/Volumes/workspace/default/data\")\n .writeStream.format(\"delta\")\n .option(\"checkpointLocation\", \"/Volumes/workspace/default/checkpoint\")\n .trigger(availableNow=True)\n .toTable(\"streaming_table\"))"
      ]
    },
    {
      "cell_type": "markdown",
      "metadata": {
        "application/vnd.databricks.v1+cell": {
          "cellMetadata": {},
          "inputWidgets": {},
          "nuid": "f00c4f28-bb5d-48f8-a790-3e2e58a0ac86",
          "showTitle": false,
          "tableResultSettingsMap": {},
          "title": ""
        }
      },
      "source": [
        "#### SQL - read_files()"
      ]
    },
    {
      "cell_type": "code",
      "execution_count": 0,
      "metadata": {
        "application/vnd.databricks.v1+cell": {
          "cellMetadata": {},
          "inputWidgets": {},
          "nuid": "c96c6d17-fa87-4665-9c54-20394d79bdab",
          "showTitle": false,
          "tableResultSettingsMap": {},
          "title": ""
        }
      },
      "outputs": [],
      "source": [
        "%sql\nCREATE OR REFRESH STREAMING TABLE streaming_table\nAS SELECT * FROM STREAM read_files('/Volumes/workspace/default/data', format => 'csv', header => true)"
      ]
    },
    {
      "cell_type": "markdown",
      "metadata": {
        "application/vnd.databricks.v1+cell": {
          "cellMetadata": {},
          "inputWidgets": {},
          "nuid": "8ee55b1c-f44e-4acb-9756-db9b87eea106",
          "showTitle": false,
          "tableResultSettingsMap": {},
          "title": ""
        }
      },
      "source": [
        "#### Scala - Auto Loader"
      ]
    },
    {
      "cell_type": "code",
      "execution_count": 0,
      "metadata": {
        "application/vnd.databricks.v1+cell": {
          "cellMetadata": {},
          "inputWidgets": {},
          "nuid": "6cab9b55-daee-414b-8db1-be1e2e054fb1",
          "showTitle": false,
          "tableResultSettingsMap": {},
          "title": ""
        }
      },
      "outputs": [],
      "source": [
        "%scala\nspark.readStream.format(\"cloudFiles\")\n  .option(\"cloudFiles.format\", \"csv\")\n  .option(\"cloudFiles.schemaLocation\", \"/Volumes/workspace/default/schema\")\n  .option(\"header\", \"true\")\n  .load(\"/Volumes/workspace/default/data\")\n  .writeStream.format(\"delta\")\n  .option(\"checkpointLocation\", \"/Volumes/workspace/default/checkpoint\")\n  .trigger(org.apache.spark.sql.streaming.Trigger.AvailableNow())\n  .toTable(\"streaming_table\")"
      ]
    },
    {
      "cell_type": "markdown",
      "metadata": {
        "application/vnd.databricks.v1+cell": {
          "cellMetadata": {},
          "inputWidgets": {},
          "nuid": "5bb9e195-a1ef-455f-b444-6f8a061d3c00",
          "showTitle": false,
          "tableResultSettingsMap": {},
          "title": ""
        }
      },
      "source": [
        "## 16. Medallion Architecture (Bronze-Silver-Gold)"
      ]
    },
    {
      "cell_type": "markdown",
      "metadata": {
        "application/vnd.databricks.v1+cell": {
          "cellMetadata": {},
          "inputWidgets": {},
          "nuid": "a43b58df-edfa-4e1c-9d83-8cbc1649e452",
          "showTitle": false,
          "tableResultSettingsMap": {},
          "title": ""
        }
      },
      "source": [
        "### Bronze Layer (Raw Data)"
      ]
    },
    {
      "cell_type": "markdown",
      "metadata": {
        "application/vnd.databricks.v1+cell": {
          "cellMetadata": {},
          "inputWidgets": {},
          "nuid": "92898034-2b7b-40b5-9dfc-480ce2690d2a",
          "showTitle": false,
          "tableResultSettingsMap": {},
          "title": ""
        }
      },
      "source": [
        "#### SQL - Bronze Table"
      ]
    },
    {
      "cell_type": "code",
      "execution_count": 0,
      "metadata": {
        "application/vnd.databricks.v1+cell": {
          "cellMetadata": {},
          "inputWidgets": {},
          "nuid": "ae454c75-d0d3-4745-8af6-0c8ad66b24ba",
          "showTitle": false,
          "tableResultSettingsMap": {},
          "title": ""
        }
      },
      "outputs": [],
      "source": [
        "%sql\nCREATE TABLE bronze_insurance (policy_id INT, name STRING, policy_type STRING, premium DECIMAL(10,2), claim DECIMAL(10,2), created_at TIMESTAMP);\nINSERT INTO bronze_insurance VALUES (101, 'Alice', 'Health', 500.00, NULL, CURRENT_TIMESTAMP), (102, 'Bob', 'Auto', 300.00, 1500.00, CURRENT_TIMESTAMP)"
      ]
    },
    {
      "cell_type": "markdown",
      "metadata": {
        "application/vnd.databricks.v1+cell": {
          "cellMetadata": {},
          "inputWidgets": {},
          "nuid": "cac07d35-838b-4fc2-b73f-f42aaf0f30fe",
          "showTitle": false,
          "tableResultSettingsMap": {},
          "title": ""
        }
      },
      "source": [
        "#### PySpark - Bronze Layer"
      ]
    },
    {
      "cell_type": "code",
      "execution_count": 0,
      "metadata": {
        "application/vnd.databricks.v1+cell": {
          "cellMetadata": {},
          "inputWidgets": {},
          "nuid": "bc46ffa9-c570-4d4c-ad77-1df39952382d",
          "showTitle": false,
          "tableResultSettingsMap": {},
          "title": ""
        }
      },
      "outputs": [],
      "source": [
        "from pyspark.sql import Row\nfrom pyspark.sql.functions import current_timestamp\nbronze_data = [Row(policy_id=101, name=\"Alice\", policy_type=\"Health\", premium=500.00, claim=None)]\nbronze_df = spark.createDataFrame(bronze_data).withColumn(\"created_at\", current_timestamp())\nbronze_df.write.format(\"delta\").mode(\"overwrite\").saveAsTable(\"bronze_insurance\")"
      ]
    },
    {
      "cell_type": "markdown",
      "metadata": {
        "application/vnd.databricks.v1+cell": {
          "cellMetadata": {},
          "inputWidgets": {},
          "nuid": "b8d1f26a-f46a-4208-b84e-abdf0c6cdf58",
          "showTitle": false,
          "tableResultSettingsMap": {},
          "title": ""
        }
      },
      "source": [
        "### Silver Layer (Cleaned Data)"
      ]
    },
    {
      "cell_type": "markdown",
      "metadata": {
        "application/vnd.databricks.v1+cell": {
          "cellMetadata": {},
          "inputWidgets": {},
          "nuid": "f967eb33-028f-4645-8ce9-048a0eea00b5",
          "showTitle": false,
          "tableResultSettingsMap": {},
          "title": ""
        }
      },
      "source": [
        "#### SQL - Silver Table"
      ]
    },
    {
      "cell_type": "code",
      "execution_count": 0,
      "metadata": {
        "application/vnd.databricks.v1+cell": {
          "cellMetadata": {},
          "inputWidgets": {},
          "nuid": "56517368-2a72-4232-8f8a-920a6b00fb92",
          "showTitle": false,
          "tableResultSettingsMap": {},
          "title": ""
        }
      },
      "outputs": [],
      "source": [
        "%sql\nCREATE TABLE silver_insurance AS SELECT policy_id, name, policy_type, premium, claim FROM bronze_insurance WHERE premium IS NOT NULL"
      ]
    },
    {
      "cell_type": "markdown",
      "metadata": {
        "application/vnd.databricks.v1+cell": {
          "cellMetadata": {},
          "inputWidgets": {},
          "nuid": "1ae2db75-818b-46e9-9b2d-1c2d4a2c773f",
          "showTitle": false,
          "tableResultSettingsMap": {},
          "title": ""
        }
      },
      "source": [
        "#### PySpark - Silver Layer"
      ]
    },
    {
      "cell_type": "code",
      "execution_count": 0,
      "metadata": {
        "application/vnd.databricks.v1+cell": {
          "cellMetadata": {},
          "inputWidgets": {},
          "nuid": "10765de6-93ad-49dc-b4d3-9e19a983e104",
          "showTitle": false,
          "tableResultSettingsMap": {},
          "title": ""
        }
      },
      "outputs": [],
      "source": [
        "bronze_df = spark.table(\"bronze_insurance\")\nsilver_df = bronze_df.select(\"policy_id\", \"name\", \"policy_type\", \"premium\", \"claim\").filter(\"premium IS NOT NULL\")\nsilver_df.write.format(\"delta\").mode(\"overwrite\").saveAsTable(\"silver_insurance\")"
      ]
    },
    {
      "cell_type": "markdown",
      "metadata": {
        "application/vnd.databricks.v1+cell": {
          "cellMetadata": {},
          "inputWidgets": {},
          "nuid": "0cb88e7e-3d94-4866-9845-c53c4c403b2c",
          "showTitle": false,
          "tableResultSettingsMap": {},
          "title": ""
        }
      },
      "source": [
        "### Gold Layer (Aggregated Metrics)"
      ]
    },
    {
      "cell_type": "markdown",
      "metadata": {
        "application/vnd.databricks.v1+cell": {
          "cellMetadata": {},
          "inputWidgets": {},
          "nuid": "0bda3b5a-501c-41df-8cad-1738090cbef8",
          "showTitle": false,
          "tableResultSettingsMap": {},
          "title": ""
        }
      },
      "source": [
        "#### SQL - Gold Table"
      ]
    },
    {
      "cell_type": "code",
      "execution_count": 0,
      "metadata": {
        "application/vnd.databricks.v1+cell": {
          "cellMetadata": {},
          "inputWidgets": {},
          "nuid": "4c9498b8-835b-471f-beb3-be67bdbe4498",
          "showTitle": false,
          "tableResultSettingsMap": {},
          "title": ""
        }
      },
      "outputs": [],
      "source": [
        "%sql\nCREATE TABLE gold_insurance AS SELECT policy_type, COUNT(*) AS total_policies, SUM(premium) AS total_premium, SUM(COALESCE(claim, 0)) AS total_claims FROM silver_insurance GROUP BY policy_type"
      ]
    },
    {
      "cell_type": "markdown",
      "metadata": {
        "application/vnd.databricks.v1+cell": {
          "cellMetadata": {},
          "inputWidgets": {},
          "nuid": "571ddebe-442d-46b1-8a99-5113b139043a",
          "showTitle": false,
          "tableResultSettingsMap": {},
          "title": ""
        }
      },
      "source": [
        "#### PySpark - Gold Layer"
      ]
    },
    {
      "cell_type": "code",
      "execution_count": 0,
      "metadata": {
        "application/vnd.databricks.v1+cell": {
          "cellMetadata": {},
          "inputWidgets": {},
          "nuid": "6999138d-6fc7-43b7-82a3-48adb7d12f34",
          "showTitle": false,
          "tableResultSettingsMap": {},
          "title": ""
        }
      },
      "outputs": [],
      "source": [
        "from pyspark.sql.functions import count, sum, coalesce, lit\nsilver_df = spark.table(\"silver_insurance\")\ngold_df = silver_df.groupBy(\"policy_type\").agg(count(\"*\").alias(\"total_policies\"), sum(\"premium\").alias(\"total_premium\"), sum(coalesce(\"claim\", lit(0))).alias(\"total_claims\"))\ngold_df.write.format(\"delta\").mode(\"overwrite\").saveAsTable(\"gold_insurance\")"
      ]
    },
    {
      "cell_type": "markdown",
      "metadata": {
        "application/vnd.databricks.v1+cell": {
          "cellMetadata": {},
          "inputWidgets": {},
          "nuid": "bb091b9d-e5c5-47bf-9179-814de02384fa",
          "showTitle": false,
          "tableResultSettingsMap": {},
          "title": ""
        }
      },
      "source": [
        "## Summary\n\nThis notebook demonstrates all major Databricks operations in SQL, PySpark, and Spark-Scala:\n\n1. DBFS Operations\n2. CREATE TABLE\n3. INSERT\n4. SELECT\n5. UPDATE\n6. DELETE\n7. MERGE (UPSERT)\n8. Table Introspection (DESCRIBE)\n9. Time Travel\n10. VACUUM\n11. Data Ingestion (JSON/CSV)\n12. JDBC Connections\n13. Table Cloning\n14. User-Defined Functions\n15. Streaming (Auto Loader)\n16. Medallion Architecture (Bronze-Silver-Gold)"
      ]
    }
  ],
  "metadata": {
    "application/vnd.databricks.v1+notebook": {
      "computePreferences": null,
      "dashboards": [],
      "environmentMetadata": {
        "base_environment": "",
        "environment_version": "4"
      },
      "inputWidgetPreferences": null,
      "language": "python",
      "notebookMetadata": {
        "pythonIndentUnit": 4
      },
      "notebookName": "Demo-updated",
      "widgets": {}
    },
    "language_info": {
      "name": "python"
    }
  },
  "nbformat": 4,
  "nbformat_minor": 0
}